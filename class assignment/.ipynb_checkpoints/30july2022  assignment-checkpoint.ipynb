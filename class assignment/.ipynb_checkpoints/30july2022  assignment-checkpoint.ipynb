{
 "cells": [
  {
   "cell_type": "code",
   "execution_count": 2,
   "metadata": {
    "pycharm": {
     "name": "#%%\n"
    }
   },
   "outputs": [],
   "source": [
    "import pandas as pd"
   ]
  },
  {
   "cell_type": "code",
   "execution_count": 3,
   "metadata": {
    "pycharm": {
     "name": "#%%\n"
    }
   },
   "outputs": [
    {
     "name": "stderr",
     "output_type": "stream",
     "text": [
      "C:\\Users\\Subhajit\\anaconda3\\lib\\site-packages\\openpyxl\\styles\\stylesheet.py:226: UserWarning: Workbook contains no default style, apply openpyxl's default\n",
      "  warn(\"Workbook contains no default style, apply openpyxl's default\")\n"
     ]
    }
   ],
   "source": [
    "ap_df = pd.read_excel('AgentPerformance (1).xlsx',header=1)"
   ]
  },
  {
   "cell_type": "code",
   "execution_count": 4,
   "metadata": {
    "pycharm": {
     "name": "#%%\n"
    }
   },
   "outputs": [
    {
     "data": {
      "text/html": [
       "<div>\n",
       "<style scoped>\n",
       "    .dataframe tbody tr th:only-of-type {\n",
       "        vertical-align: middle;\n",
       "    }\n",
       "\n",
       "    .dataframe tbody tr th {\n",
       "        vertical-align: top;\n",
       "    }\n",
       "\n",
       "    .dataframe thead th {\n",
       "        text-align: right;\n",
       "    }\n",
       "</style>\n",
       "<table border=\"1\" class=\"dataframe\">\n",
       "  <thead>\n",
       "    <tr style=\"text-align: right;\">\n",
       "      <th></th>\n",
       "      <th>SL No</th>\n",
       "      <th>Date</th>\n",
       "      <th>Agent Name</th>\n",
       "      <th>Total Chats</th>\n",
       "      <th>Average Response Time</th>\n",
       "      <th>Average Resolution Time</th>\n",
       "      <th>Average Rating</th>\n",
       "      <th>Total Feedback</th>\n",
       "    </tr>\n",
       "  </thead>\n",
       "  <tbody>\n",
       "    <tr>\n",
       "      <th>0</th>\n",
       "      <td>1</td>\n",
       "      <td>2022-07-30</td>\n",
       "      <td>Prerna Singh</td>\n",
       "      <td>11</td>\n",
       "      <td>00:00:38</td>\n",
       "      <td>00:04:20</td>\n",
       "      <td>4.11</td>\n",
       "      <td>9</td>\n",
       "    </tr>\n",
       "    <tr>\n",
       "      <th>1</th>\n",
       "      <td>2</td>\n",
       "      <td>2022-07-30</td>\n",
       "      <td>Nandani Gupta</td>\n",
       "      <td>11</td>\n",
       "      <td>00:01:15</td>\n",
       "      <td>00:28:25</td>\n",
       "      <td>3.14</td>\n",
       "      <td>7</td>\n",
       "    </tr>\n",
       "    <tr>\n",
       "      <th>2</th>\n",
       "      <td>3</td>\n",
       "      <td>2022-07-30</td>\n",
       "      <td>Ameya Jain</td>\n",
       "      <td>14</td>\n",
       "      <td>00:00:30</td>\n",
       "      <td>00:11:36</td>\n",
       "      <td>4.55</td>\n",
       "      <td>11</td>\n",
       "    </tr>\n",
       "    <tr>\n",
       "      <th>3</th>\n",
       "      <td>4</td>\n",
       "      <td>2022-07-30</td>\n",
       "      <td>Mahesh Sarade</td>\n",
       "      <td>14</td>\n",
       "      <td>00:01:04</td>\n",
       "      <td>00:15:46</td>\n",
       "      <td>4.71</td>\n",
       "      <td>7</td>\n",
       "    </tr>\n",
       "    <tr>\n",
       "      <th>4</th>\n",
       "      <td>5</td>\n",
       "      <td>2022-07-30</td>\n",
       "      <td>Swati</td>\n",
       "      <td>14</td>\n",
       "      <td>00:01:11</td>\n",
       "      <td>00:16:33</td>\n",
       "      <td>3.67</td>\n",
       "      <td>6</td>\n",
       "    </tr>\n",
       "  </tbody>\n",
       "</table>\n",
       "</div>"
      ],
      "text/plain": [
       "   SL No        Date     Agent Name  Total Chats Average Response Time  \\\n",
       "0      1  2022-07-30   Prerna Singh           11              00:00:38   \n",
       "1      2  2022-07-30  Nandani Gupta           11              00:01:15   \n",
       "2      3  2022-07-30     Ameya Jain           14              00:00:30   \n",
       "3      4  2022-07-30  Mahesh Sarade           14              00:01:04   \n",
       "4      5  2022-07-30         Swati            14              00:01:11   \n",
       "\n",
       "  Average Resolution Time  Average Rating  Total Feedback  \n",
       "0                00:04:20            4.11               9  \n",
       "1                00:28:25            3.14               7  \n",
       "2                00:11:36            4.55              11  \n",
       "3                00:15:46            4.71               7  \n",
       "4                00:16:33            3.67               6  "
      ]
     },
     "execution_count": 4,
     "metadata": {},
     "output_type": "execute_result"
    }
   ],
   "source": [
    "ap_df.head()"
   ]
  },
  {
   "cell_type": "code",
   "execution_count": 19,
   "metadata": {
    "pycharm": {
     "name": "#%%\n"
    }
   },
   "outputs": [
    {
     "name": "stdout",
     "output_type": "stream",
     "text": [
      "<class 'pandas.core.frame.DataFrame'>\n",
      "RangeIndex: 2160 entries, 0 to 2159\n",
      "Data columns (total 9 columns):\n",
      " #   Column                   Non-Null Count  Dtype         \n",
      "---  ------                   --------------  -----         \n",
      " 0   SL No                    2160 non-null   int64         \n",
      " 1   Date                     2160 non-null   datetime64[ns]\n",
      " 2   Agent Name               2160 non-null   object        \n",
      " 3   Total Chats              2160 non-null   int64         \n",
      " 4   Average Response Time    2160 non-null   object        \n",
      " 5   Average Resolution Time  2160 non-null   object        \n",
      " 6   Average Rating           2160 non-null   float64       \n",
      " 7   Total Feedback           2160 non-null   int64         \n",
      " 8   converted_week           2160 non-null   int64         \n",
      "dtypes: datetime64[ns](1), float64(1), int64(4), object(3)\n",
      "memory usage: 152.0+ KB\n"
     ]
    }
   ],
   "source": [
    "ap_df.info()"
   ]
  },
  {
   "cell_type": "code",
   "execution_count": 6,
   "metadata": {
    "pycharm": {
     "name": "#%%\n"
    }
   },
   "outputs": [],
   "source": [
    "ap_df['Date'] = pd.to_datetime(ap_df.Date)"
   ]
  },
  {
   "cell_type": "code",
   "execution_count": 7,
   "metadata": {
    "pycharm": {
     "name": "#%%\n"
    }
   },
   "outputs": [
    {
     "data": {
      "text/plain": [
       "Index(['SL No', 'Date', 'Agent Name', 'Total Chats', 'Average Response Time',\n",
       "       'Average Resolution Time', 'Average Rating', 'Total Feedback'],\n",
       "      dtype='object')"
      ]
     },
     "execution_count": 7,
     "metadata": {},
     "output_type": "execute_result"
    }
   ],
   "source": [
    "ap_df.columns"
   ]
  },
  {
   "cell_type": "code",
   "execution_count": 8,
   "metadata": {
    "pycharm": {
     "name": "#%%\n"
    }
   },
   "outputs": [
    {
     "name": "stderr",
     "output_type": "stream",
     "text": [
      "C:\\Users\\Subhajit\\AppData\\Local\\Temp\\ipykernel_11576\\1733113987.py:1: FutureWarning: Series.dt.weekofyear and Series.dt.week have been deprecated. Please use Series.dt.isocalendar().week instead.\n",
      "  ap_df['converted_week'] = ap_df.Date.dt.week\n"
     ]
    }
   ],
   "source": [
    "ap_df['converted_week'] = ap_df.Date.dt.week"
   ]
  },
  {
   "cell_type": "code",
   "execution_count": 9,
   "metadata": {
    "pycharm": {
     "name": "#%%\n"
    }
   },
   "outputs": [
    {
     "data": {
      "text/html": [
       "<div>\n",
       "<style scoped>\n",
       "    .dataframe tbody tr th:only-of-type {\n",
       "        vertical-align: middle;\n",
       "    }\n",
       "\n",
       "    .dataframe tbody tr th {\n",
       "        vertical-align: top;\n",
       "    }\n",
       "\n",
       "    .dataframe thead th {\n",
       "        text-align: right;\n",
       "    }\n",
       "</style>\n",
       "<table border=\"1\" class=\"dataframe\">\n",
       "  <thead>\n",
       "    <tr style=\"text-align: right;\">\n",
       "      <th></th>\n",
       "      <th>SL No</th>\n",
       "      <th>Date</th>\n",
       "      <th>Agent Name</th>\n",
       "      <th>Total Chats</th>\n",
       "      <th>Average Response Time</th>\n",
       "      <th>Average Resolution Time</th>\n",
       "      <th>Average Rating</th>\n",
       "      <th>Total Feedback</th>\n",
       "      <th>converted_week</th>\n",
       "    </tr>\n",
       "  </thead>\n",
       "  <tbody>\n",
       "    <tr>\n",
       "      <th>0</th>\n",
       "      <td>1</td>\n",
       "      <td>2022-07-30</td>\n",
       "      <td>Prerna Singh</td>\n",
       "      <td>11</td>\n",
       "      <td>00:00:38</td>\n",
       "      <td>00:04:20</td>\n",
       "      <td>4.11</td>\n",
       "      <td>9</td>\n",
       "      <td>30</td>\n",
       "    </tr>\n",
       "    <tr>\n",
       "      <th>1</th>\n",
       "      <td>2</td>\n",
       "      <td>2022-07-30</td>\n",
       "      <td>Nandani Gupta</td>\n",
       "      <td>11</td>\n",
       "      <td>00:01:15</td>\n",
       "      <td>00:28:25</td>\n",
       "      <td>3.14</td>\n",
       "      <td>7</td>\n",
       "      <td>30</td>\n",
       "    </tr>\n",
       "    <tr>\n",
       "      <th>2</th>\n",
       "      <td>3</td>\n",
       "      <td>2022-07-30</td>\n",
       "      <td>Ameya Jain</td>\n",
       "      <td>14</td>\n",
       "      <td>00:00:30</td>\n",
       "      <td>00:11:36</td>\n",
       "      <td>4.55</td>\n",
       "      <td>11</td>\n",
       "      <td>30</td>\n",
       "    </tr>\n",
       "    <tr>\n",
       "      <th>3</th>\n",
       "      <td>4</td>\n",
       "      <td>2022-07-30</td>\n",
       "      <td>Mahesh Sarade</td>\n",
       "      <td>14</td>\n",
       "      <td>00:01:04</td>\n",
       "      <td>00:15:46</td>\n",
       "      <td>4.71</td>\n",
       "      <td>7</td>\n",
       "      <td>30</td>\n",
       "    </tr>\n",
       "    <tr>\n",
       "      <th>4</th>\n",
       "      <td>5</td>\n",
       "      <td>2022-07-30</td>\n",
       "      <td>Swati</td>\n",
       "      <td>14</td>\n",
       "      <td>00:01:11</td>\n",
       "      <td>00:16:33</td>\n",
       "      <td>3.67</td>\n",
       "      <td>6</td>\n",
       "      <td>30</td>\n",
       "    </tr>\n",
       "  </tbody>\n",
       "</table>\n",
       "</div>"
      ],
      "text/plain": [
       "   SL No       Date     Agent Name  Total Chats Average Response Time  \\\n",
       "0      1 2022-07-30   Prerna Singh           11              00:00:38   \n",
       "1      2 2022-07-30  Nandani Gupta           11              00:01:15   \n",
       "2      3 2022-07-30     Ameya Jain           14              00:00:30   \n",
       "3      4 2022-07-30  Mahesh Sarade           14              00:01:04   \n",
       "4      5 2022-07-30         Swati            14              00:01:11   \n",
       "\n",
       "  Average Resolution Time  Average Rating  Total Feedback  converted_week  \n",
       "0                00:04:20            4.11               9              30  \n",
       "1                00:28:25            3.14               7              30  \n",
       "2                00:11:36            4.55              11              30  \n",
       "3                00:15:46            4.71               7              30  \n",
       "4                00:16:33            3.67               6              30  "
      ]
     },
     "execution_count": 9,
     "metadata": {},
     "output_type": "execute_result"
    }
   ],
   "source": [
    "ap_df.head()"
   ]
  },
  {
   "cell_type": "markdown",
   "metadata": {},
   "source": [
    "1 .Find out there avarage rating on weekly basis keep this in a mind that they take two days of leave"
   ]
  },
  {
   "cell_type": "code",
   "execution_count": 10,
   "metadata": {
    "pycharm": {
     "name": "#%%\n"
    }
   },
   "outputs": [
    {
     "data": {
      "text/plain": [
       "Agent Name  converted_week\n",
       "Abhishek    26                0.000\n",
       "            27                0.000\n",
       "            28                0.000\n",
       "            29                0.000\n",
       "            30                0.000\n",
       "                              ...  \n",
       "Zeeshan     26                0.000\n",
       "            27                1.830\n",
       "            28                4.128\n",
       "            29                4.452\n",
       "            30                3.312\n",
       "Name: Average Rating, Length: 350, dtype: float64"
      ]
     },
     "execution_count": 10,
     "metadata": {},
     "output_type": "execute_result"
    }
   ],
   "source": [
    "ap_df.groupby(['Agent Name','converted_week'])['Average Rating'].sum()/5"
   ]
  },
  {
   "cell_type": "code",
   "execution_count": 14,
   "metadata": {
    "pycharm": {
     "name": "#%%\n"
    }
   },
   "outputs": [],
   "source": [
    "alr_df = pd.read_excel('Agent_Login_Report (4).xls',header=2)"
   ]
  },
  {
   "cell_type": "code",
   "execution_count": 15,
   "metadata": {},
   "outputs": [
    {
     "data": {
      "text/html": [
       "<div>\n",
       "<style scoped>\n",
       "    .dataframe tbody tr th:only-of-type {\n",
       "        vertical-align: middle;\n",
       "    }\n",
       "\n",
       "    .dataframe tbody tr th {\n",
       "        vertical-align: top;\n",
       "    }\n",
       "\n",
       "    .dataframe thead th {\n",
       "        text-align: right;\n",
       "    }\n",
       "</style>\n",
       "<table border=\"1\" class=\"dataframe\">\n",
       "  <thead>\n",
       "    <tr style=\"text-align: right;\">\n",
       "      <th></th>\n",
       "      <th>SL No</th>\n",
       "      <th>Agent</th>\n",
       "      <th>Date</th>\n",
       "      <th>Login Time</th>\n",
       "      <th>Logout Time</th>\n",
       "      <th>Duration</th>\n",
       "    </tr>\n",
       "  </thead>\n",
       "  <tbody>\n",
       "    <tr>\n",
       "      <th>0</th>\n",
       "      <td>1</td>\n",
       "      <td>Shivananda Sonwane</td>\n",
       "      <td>30-Jul-22</td>\n",
       "      <td>03:35:29 PM</td>\n",
       "      <td>05:39:39 PM</td>\n",
       "      <td>02:04:10</td>\n",
       "    </tr>\n",
       "    <tr>\n",
       "      <th>1</th>\n",
       "      <td>2</td>\n",
       "      <td>Khushboo Priya</td>\n",
       "      <td>30-Jul-22</td>\n",
       "      <td>03:06:59 PM</td>\n",
       "      <td>03:07:16 PM</td>\n",
       "      <td>00:00:17</td>\n",
       "    </tr>\n",
       "    <tr>\n",
       "      <th>2</th>\n",
       "      <td>3</td>\n",
       "      <td>Nandani Gupta</td>\n",
       "      <td>30-Jul-22</td>\n",
       "      <td>03:04:24 PM</td>\n",
       "      <td>05:31:07 PM</td>\n",
       "      <td>02:26:42</td>\n",
       "    </tr>\n",
       "    <tr>\n",
       "      <th>3</th>\n",
       "      <td>4</td>\n",
       "      <td>Hrisikesh Neogi</td>\n",
       "      <td>30-Jul-22</td>\n",
       "      <td>02:34:29 PM</td>\n",
       "      <td>03:19:35 PM</td>\n",
       "      <td>00:45:06</td>\n",
       "    </tr>\n",
       "    <tr>\n",
       "      <th>4</th>\n",
       "      <td>5</td>\n",
       "      <td>Mukesh</td>\n",
       "      <td>30-Jul-22</td>\n",
       "      <td>02:03:15 PM</td>\n",
       "      <td>03:11:52 PM</td>\n",
       "      <td>01:08:36</td>\n",
       "    </tr>\n",
       "  </tbody>\n",
       "</table>\n",
       "</div>"
      ],
      "text/plain": [
       "   SL No               Agent       Date   Login Time  Logout Time  Duration\n",
       "0      1  Shivananda Sonwane  30-Jul-22  03:35:29 PM  05:39:39 PM  02:04:10\n",
       "1      2      Khushboo Priya  30-Jul-22  03:06:59 PM  03:07:16 PM  00:00:17\n",
       "2      3       Nandani Gupta  30-Jul-22  03:04:24 PM  05:31:07 PM  02:26:42\n",
       "3      4     Hrisikesh Neogi  30-Jul-22  02:34:29 PM  03:19:35 PM  00:45:06\n",
       "4      5             Mukesh   30-Jul-22  02:03:15 PM  03:11:52 PM  01:08:36"
      ]
     },
     "execution_count": 15,
     "metadata": {},
     "output_type": "execute_result"
    }
   ],
   "source": [
    "alr_df.head()"
   ]
  },
  {
   "cell_type": "code",
   "execution_count": 21,
   "metadata": {},
   "outputs": [
    {
     "name": "stdout",
     "output_type": "stream",
     "text": [
      "<class 'pandas.core.frame.DataFrame'>\n",
      "RangeIndex: 1000 entries, 0 to 999\n",
      "Data columns (total 6 columns):\n",
      " #   Column       Non-Null Count  Dtype         \n",
      "---  ------       --------------  -----         \n",
      " 0   SL No        1000 non-null   int64         \n",
      " 1   Agent        1000 non-null   object        \n",
      " 2   Date         1000 non-null   datetime64[ns]\n",
      " 3   Login Time   1000 non-null   object        \n",
      " 4   Logout Time  1000 non-null   object        \n",
      " 5   Duration     1000 non-null   object        \n",
      "dtypes: datetime64[ns](1), int64(1), object(4)\n",
      "memory usage: 47.0+ KB\n"
     ]
    }
   ],
   "source": [
    "alr_df.info()"
   ]
  },
  {
   "cell_type": "code",
   "execution_count": 16,
   "metadata": {},
   "outputs": [
    {
     "data": {
      "text/plain": [
       "Index(['SL No', 'Agent', 'Date', 'Login Time', 'Logout Time', 'Duration'], dtype='object')"
      ]
     },
     "execution_count": 16,
     "metadata": {},
     "output_type": "execute_result"
    }
   ],
   "source": [
    "alr_df.columns"
   ]
  },
  {
   "cell_type": "code",
   "execution_count": 20,
   "metadata": {},
   "outputs": [],
   "source": [
    "alr_df['Date'] = pd.to_datetime(alr_df['Date'])"
   ]
  },
  {
   "cell_type": "markdown",
   "metadata": {},
   "source": [
    "2 .Total working days for each agents"
   ]
  },
  {
   "cell_type": "code",
   "execution_count": 22,
   "metadata": {},
   "outputs": [
    {
     "data": {
      "text/plain": [
       "Agent\n",
       "Aditya Shinde               1\n",
       "Aditya_iot                  9\n",
       "Amersh                      4\n",
       "Ameya Jain                 10\n",
       "Ankitjha                    4\n",
       "Anurag Tiwari              37\n",
       "Aravind                    10\n",
       "Ayushi Mishra              18\n",
       "Bharath                     9\n",
       "Boktiar Ahmed Bappy        17\n",
       "Chaitra K Hiremath         13\n",
       "Deepranjan Gupta           58\n",
       "Dibyanshu                 208\n",
       "Harikrishnan Shaji         23\n",
       "Hrisikesh Neogi            37\n",
       "Hyder Abbas                 2\n",
       "Ineuron Intelligence        1\n",
       "Ishawant Kumar             49\n",
       "Jawala Prakash             16\n",
       "Jaydeep Dixit              11\n",
       "Khushboo Priya             18\n",
       "Madhulika G                17\n",
       "Mahesh Sarade              36\n",
       "Maitry                      5\n",
       "Manjunatha A                8\n",
       "Mithun S                   14\n",
       "Mukesh                      3\n",
       "Muskan Garg                12\n",
       "Nandani Gupta              11\n",
       "Nishtha Jain               18\n",
       "Nitin M                     1\n",
       "Prabir Kumar Satapathy     26\n",
       "Prateek _iot               17\n",
       "Prerna Singh               18\n",
       "Rishav Dash                12\n",
       "Saikumarreddy N            10\n",
       "Sanjeev Kumar              20\n",
       "Saurabh Shukla             40\n",
       "Shiva Srivastava           15\n",
       "Shivan K                   36\n",
       "Shivananda Sonwane         15\n",
       "Shubham Sharma             35\n",
       "Sowmiya Sivakumar          24\n",
       "Sudhanshu Kumar            11\n",
       "Suraj S Bilgi               5\n",
       "Swati                       5\n",
       "Tarun                       1\n",
       "Wasim                      20\n",
       "Zeeshan                    10\n",
       "Name: Date, dtype: int64"
      ]
     },
     "execution_count": 22,
     "metadata": {},
     "output_type": "execute_result"
    }
   ],
   "source": [
    "alr_df.groupby('Agent')['Date'].count()"
   ]
  },
  {
   "cell_type": "code",
   "execution_count": null,
   "metadata": {},
   "outputs": [],
   "source": []
  },
  {
   "cell_type": "markdown",
   "metadata": {},
   "source": [
    "3. Total query that you have taken "
   ]
  },
  {
   "cell_type": "code",
   "execution_count": 23,
   "metadata": {},
   "outputs": [
    {
     "data": {
      "text/plain": [
       "Agent Name\n",
       "Abhishek           0\n",
       "Aditya             0\n",
       "Aditya Shinde    277\n",
       "Aditya_iot       231\n",
       "Amersh             0\n",
       "                ... \n",
       "Uday Mishra        0\n",
       "Vasanth P          0\n",
       "Vivek             44\n",
       "Wasim            433\n",
       "Zeeshan          542\n",
       "Name: Total Chats, Length: 70, dtype: int64"
      ]
     },
     "execution_count": 23,
     "metadata": {},
     "output_type": "execute_result"
    }
   ],
   "source": [
    "ap_df.groupby('Agent Name')['Total Chats'].sum()"
   ]
  },
  {
   "cell_type": "code",
   "execution_count": null,
   "metadata": {},
   "outputs": [],
   "source": []
  },
  {
   "cell_type": "markdown",
   "metadata": {},
   "source": [
    "4. total Feedback that you have received "
   ]
  },
  {
   "cell_type": "code",
   "execution_count": 24,
   "metadata": {},
   "outputs": [
    {
     "data": {
      "text/plain": [
       "Agent Name\n",
       "Abhishek           0\n",
       "Aditya             0\n",
       "Aditya Shinde    153\n",
       "Aditya_iot       131\n",
       "Amersh             0\n",
       "                ... \n",
       "Uday Mishra        0\n",
       "Vasanth P          0\n",
       "Vivek             20\n",
       "Wasim            284\n",
       "Zeeshan          335\n",
       "Name: Total Feedback, Length: 70, dtype: int64"
      ]
     },
     "execution_count": 24,
     "metadata": {},
     "output_type": "execute_result"
    }
   ],
   "source": [
    "ap_df.groupby('Agent Name')['Total Feedback'].sum()"
   ]
  },
  {
   "cell_type": "code",
   "execution_count": null,
   "metadata": {},
   "outputs": [],
   "source": []
  },
  {
   "cell_type": "markdown",
   "metadata": {},
   "source": [
    "5. a agent name who have average rating between 3.5 to 4 "
   ]
  },
  {
   "cell_type": "code",
   "execution_count": 42,
   "metadata": {},
   "outputs": [
    {
     "data": {
      "text/plain": [
       "array(['Prerna Singh', 'Nandani Gupta', 'Ameya Jain', 'Mahesh Sarade',\n",
       "       'Swati ', 'Mukesh ', 'Saikumarreddy N', 'Sanjeev Kumar',\n",
       "       'Shubham Sharma', 'Nishtha Jain', 'Manjunatha A', 'Khushboo Priya',\n",
       "       'Suraj S Bilgi', 'Harikrishnan Shaji', 'Hrisikesh Neogi',\n",
       "       'Shivan K', 'Sowmiya Sivakumar', 'Madhulika G', 'Mithun S',\n",
       "       'Hitesh Choudhary', 'Sanjeevan ', 'Anirudh ', 'Shiva Srivastava',\n",
       "       'Dibyanshu ', 'Ashish ', 'Uday Mishra', 'Aditya Shinde',\n",
       "       'Jayant Kumar', 'Aditya_iot ', 'Prabir Kumar Satapathy',\n",
       "       'Saurabh Shukla', 'Wasim ', 'Samprit ', 'Maitry ', 'Abhishek ',\n",
       "       'Rishav Dash', 'Aravind ', 'Tarun ', 'Muskan Garg', 'Ankit Sharma',\n",
       "       'Bharath ', 'Ashad Nasim', 'Vasanth P', 'Aditya ', 'Amersh ',\n",
       "       'Sandipan Saha', 'Ineuron Intelligence ', 'Mahak ', 'Mukesh Rao ',\n",
       "       'Zeeshan ', 'Anurag Tiwari', 'Ankitjha ', 'Saif Khan',\n",
       "       'Jaydeep Dixit', 'Sudhanshu Kumar', 'Maneesh ', 'Hyder Abbas',\n",
       "       'Rohan ', 'Vivek ', 'Nitin M', 'Shivan_S ', 'Spuri ',\n",
       "       'Ayushi Mishra', 'Chaitra K Hiremath', 'Prateek _iot ',\n",
       "       'Boktiar Ahmed Bappy', 'Shivananda Sonwane', 'Ishawant Kumar',\n",
       "       'Deepranjan Gupta', 'Jawala Prakash'], dtype=object)"
      ]
     },
     "execution_count": 42,
     "metadata": {},
     "output_type": "execute_result"
    }
   ],
   "source": [
    "avg3_4 = ap_df[(ap_df['Average Rating'] >= 3.5) | (ap_df['Average Rating'] <= 4)]\n",
    "avg3_4['Agent Name'].unique()"
   ]
  },
  {
   "cell_type": "code",
   "execution_count": null,
   "metadata": {},
   "outputs": [],
   "source": []
  },
  {
   "cell_type": "markdown",
   "metadata": {},
   "source": [
    "6 . Agent name who have rating lesss then 3.5 "
   ]
  },
  {
   "cell_type": "code",
   "execution_count": 45,
   "metadata": {},
   "outputs": [
    {
     "data": {
      "text/plain": [
       "array(['Nandani Gupta', 'Hitesh Choudhary', 'Sanjeevan ', 'Anirudh ',\n",
       "       'Shiva Srivastava', 'Dibyanshu ', 'Ashish ', 'Uday Mishra',\n",
       "       'Aditya Shinde', 'Jayant Kumar', 'Aditya_iot ',\n",
       "       'Prabir Kumar Satapathy', 'Saurabh Shukla', 'Wasim ', 'Samprit ',\n",
       "       'Maitry ', 'Abhishek ', 'Rishav Dash', 'Aravind ', 'Tarun ',\n",
       "       'Muskan Garg', 'Ankit Sharma', 'Bharath ', 'Ashad Nasim',\n",
       "       'Vasanth P', 'Aditya ', 'Amersh ', 'Sandipan Saha',\n",
       "       'Ineuron Intelligence ', 'Mahak ', 'Mukesh Rao ', 'Zeeshan ',\n",
       "       'Anurag Tiwari', 'Ankitjha ', 'Saif Khan', 'Jaydeep Dixit',\n",
       "       'Sudhanshu Kumar', 'Maneesh ', 'Hyder Abbas', 'Rohan ', 'Vivek ',\n",
       "       'Nitin M', 'Shivan_S ', 'Spuri ', 'Ayushi Mishra',\n",
       "       'Chaitra K Hiremath', 'Prateek _iot ', 'Jawala Prakash',\n",
       "       'Sowmiya Sivakumar', 'Nishtha Jain', 'Swati ', 'Khushboo Priya',\n",
       "       'Shubham Sharma', 'Manjunatha A', 'Ameya Jain',\n",
       "       'Harikrishnan Shaji', 'Saikumarreddy N', 'Sanjeev Kumar',\n",
       "       'Mukesh ', 'Hrisikesh Neogi', 'Mithun S', 'Prerna Singh',\n",
       "       'Suraj S Bilgi', 'Shivan K', 'Mahesh Sarade', 'Madhulika G',\n",
       "       'Boktiar Ahmed Bappy', 'Deepranjan Gupta', 'Ishawant Kumar',\n",
       "       'Shivananda Sonwane'], dtype=object)"
      ]
     },
     "execution_count": 45,
     "metadata": {},
     "output_type": "execute_result"
    }
   ],
   "source": [
    "avg3 = ap_df[ap_df['Average Rating'] < 3.5]\n",
    "avg3['Agent Name'].unique()"
   ]
  },
  {
   "cell_type": "code",
   "execution_count": null,
   "metadata": {},
   "outputs": [],
   "source": []
  },
  {
   "cell_type": "markdown",
   "metadata": {},
   "source": [
    "7 . agent name who have rating more then 4.5 "
   ]
  },
  {
   "cell_type": "code",
   "execution_count": 44,
   "metadata": {},
   "outputs": [
    {
     "data": {
      "text/plain": [
       "array(['Ameya Jain', 'Mahesh Sarade', 'Mukesh ', 'Saikumarreddy N',\n",
       "       'Sanjeev Kumar', 'Harikrishnan Shaji', 'Sowmiya Sivakumar',\n",
       "       'Boktiar Ahmed Bappy', 'Shivananda Sonwane', 'Ishawant Kumar',\n",
       "       'Deepranjan Gupta', 'Muskan Garg', 'Aditya_iot ',\n",
       "       'Chaitra K Hiremath', 'Suraj S Bilgi', 'Mithun S', 'Wasim ',\n",
       "       'Bharath ', 'Jawala Prakash', 'Ayushi Mishra', 'Prateek _iot ',\n",
       "       'Nandani Gupta', 'Khushboo Priya', 'Manjunatha A', 'Maitry ',\n",
       "       'Jaydeep Dixit', 'Madhulika G', 'Prerna Singh', 'Shivan K',\n",
       "       'Shiva Srivastava', 'Swati ', 'Shubham Sharma', 'Aravind ',\n",
       "       'Zeeshan ', 'Hrisikesh Neogi', 'Prabir Kumar Satapathy',\n",
       "       'Rishav Dash', 'Sudhanshu Kumar', 'Aditya Shinde', 'Sandipan Saha',\n",
       "       'Nishtha Jain', 'Saurabh Shukla', 'Anirudh ', 'Jayant Kumar',\n",
       "       'Mukesh Rao ', 'Vivek ', 'Ankitjha '], dtype=object)"
      ]
     },
     "execution_count": 44,
     "metadata": {},
     "output_type": "execute_result"
    }
   ],
   "source": [
    "avg4 = ap_df[ap_df['Average Rating'] > 4.5]\n",
    "avg4['Agent Name'].unique()"
   ]
  },
  {
   "cell_type": "code",
   "execution_count": 65,
   "metadata": {},
   "outputs": [],
   "source": [
    "# avgtst = ap_df.loc[ap_df['Average Rating'] > 4.5]\n",
    "# avgtst['Agent Name'].unique()"
   ]
  },
  {
   "cell_type": "markdown",
   "metadata": {},
   "source": [
    "8 . how many feedaback agents have received more then 4.5 average"
   ]
  },
  {
   "cell_type": "code",
   "execution_count": 66,
   "metadata": {},
   "outputs": [
    {
     "data": {
      "text/html": [
       "<div>\n",
       "<style scoped>\n",
       "    .dataframe tbody tr th:only-of-type {\n",
       "        vertical-align: middle;\n",
       "    }\n",
       "\n",
       "    .dataframe tbody tr th {\n",
       "        vertical-align: top;\n",
       "    }\n",
       "\n",
       "    .dataframe thead th {\n",
       "        text-align: right;\n",
       "    }\n",
       "</style>\n",
       "<table border=\"1\" class=\"dataframe\">\n",
       "  <thead>\n",
       "    <tr style=\"text-align: right;\">\n",
       "      <th></th>\n",
       "      <th>Agent Name</th>\n",
       "      <th>Total Feedback</th>\n",
       "    </tr>\n",
       "  </thead>\n",
       "  <tbody>\n",
       "    <tr>\n",
       "      <th>0</th>\n",
       "      <td>Aditya Shinde</td>\n",
       "      <td>73</td>\n",
       "    </tr>\n",
       "    <tr>\n",
       "      <th>1</th>\n",
       "      <td>Aditya_iot</td>\n",
       "      <td>43</td>\n",
       "    </tr>\n",
       "    <tr>\n",
       "      <th>2</th>\n",
       "      <td>Ameya Jain</td>\n",
       "      <td>150</td>\n",
       "    </tr>\n",
       "    <tr>\n",
       "      <th>3</th>\n",
       "      <td>Anirudh</td>\n",
       "      <td>2</td>\n",
       "    </tr>\n",
       "    <tr>\n",
       "      <th>4</th>\n",
       "      <td>Ankitjha</td>\n",
       "      <td>1</td>\n",
       "    </tr>\n",
       "    <tr>\n",
       "      <th>5</th>\n",
       "      <td>Aravind</td>\n",
       "      <td>178</td>\n",
       "    </tr>\n",
       "    <tr>\n",
       "      <th>6</th>\n",
       "      <td>Ayushi Mishra</td>\n",
       "      <td>75</td>\n",
       "    </tr>\n",
       "    <tr>\n",
       "      <th>7</th>\n",
       "      <td>Bharath</td>\n",
       "      <td>231</td>\n",
       "    </tr>\n",
       "    <tr>\n",
       "      <th>8</th>\n",
       "      <td>Boktiar Ahmed Bappy</td>\n",
       "      <td>52</td>\n",
       "    </tr>\n",
       "    <tr>\n",
       "      <th>9</th>\n",
       "      <td>Chaitra K Hiremath</td>\n",
       "      <td>5</td>\n",
       "    </tr>\n",
       "    <tr>\n",
       "      <th>10</th>\n",
       "      <td>Deepranjan Gupta</td>\n",
       "      <td>83</td>\n",
       "    </tr>\n",
       "    <tr>\n",
       "      <th>11</th>\n",
       "      <td>Harikrishnan Shaji</td>\n",
       "      <td>80</td>\n",
       "    </tr>\n",
       "    <tr>\n",
       "      <th>12</th>\n",
       "      <td>Hrisikesh Neogi</td>\n",
       "      <td>183</td>\n",
       "    </tr>\n",
       "    <tr>\n",
       "      <th>13</th>\n",
       "      <td>Ishawant Kumar</td>\n",
       "      <td>79</td>\n",
       "    </tr>\n",
       "    <tr>\n",
       "      <th>14</th>\n",
       "      <td>Jawala Prakash</td>\n",
       "      <td>33</td>\n",
       "    </tr>\n",
       "    <tr>\n",
       "      <th>15</th>\n",
       "      <td>Jayant Kumar</td>\n",
       "      <td>7</td>\n",
       "    </tr>\n",
       "    <tr>\n",
       "      <th>16</th>\n",
       "      <td>Jaydeep Dixit</td>\n",
       "      <td>179</td>\n",
       "    </tr>\n",
       "    <tr>\n",
       "      <th>17</th>\n",
       "      <td>Khushboo Priya</td>\n",
       "      <td>134</td>\n",
       "    </tr>\n",
       "    <tr>\n",
       "      <th>18</th>\n",
       "      <td>Madhulika G</td>\n",
       "      <td>67</td>\n",
       "    </tr>\n",
       "    <tr>\n",
       "      <th>19</th>\n",
       "      <td>Mahesh Sarade</td>\n",
       "      <td>46</td>\n",
       "    </tr>\n",
       "    <tr>\n",
       "      <th>20</th>\n",
       "      <td>Maitry</td>\n",
       "      <td>81</td>\n",
       "    </tr>\n",
       "    <tr>\n",
       "      <th>21</th>\n",
       "      <td>Manjunatha A</td>\n",
       "      <td>132</td>\n",
       "    </tr>\n",
       "    <tr>\n",
       "      <th>22</th>\n",
       "      <td>Mithun S</td>\n",
       "      <td>93</td>\n",
       "    </tr>\n",
       "    <tr>\n",
       "      <th>23</th>\n",
       "      <td>Mukesh</td>\n",
       "      <td>17</td>\n",
       "    </tr>\n",
       "    <tr>\n",
       "      <th>24</th>\n",
       "      <td>Mukesh Rao</td>\n",
       "      <td>1</td>\n",
       "    </tr>\n",
       "    <tr>\n",
       "      <th>25</th>\n",
       "      <td>Muskan Garg</td>\n",
       "      <td>14</td>\n",
       "    </tr>\n",
       "    <tr>\n",
       "      <th>26</th>\n",
       "      <td>Nandani Gupta</td>\n",
       "      <td>91</td>\n",
       "    </tr>\n",
       "    <tr>\n",
       "      <th>27</th>\n",
       "      <td>Nishtha Jain</td>\n",
       "      <td>18</td>\n",
       "    </tr>\n",
       "    <tr>\n",
       "      <th>28</th>\n",
       "      <td>Prabir Kumar Satapathy</td>\n",
       "      <td>53</td>\n",
       "    </tr>\n",
       "    <tr>\n",
       "      <th>29</th>\n",
       "      <td>Prateek _iot</td>\n",
       "      <td>54</td>\n",
       "    </tr>\n",
       "    <tr>\n",
       "      <th>30</th>\n",
       "      <td>Prerna Singh</td>\n",
       "      <td>82</td>\n",
       "    </tr>\n",
       "    <tr>\n",
       "      <th>31</th>\n",
       "      <td>Rishav Dash</td>\n",
       "      <td>27</td>\n",
       "    </tr>\n",
       "    <tr>\n",
       "      <th>32</th>\n",
       "      <td>Saikumarreddy N</td>\n",
       "      <td>184</td>\n",
       "    </tr>\n",
       "    <tr>\n",
       "      <th>33</th>\n",
       "      <td>Sandipan Saha</td>\n",
       "      <td>1</td>\n",
       "    </tr>\n",
       "    <tr>\n",
       "      <th>34</th>\n",
       "      <td>Sanjeev Kumar</td>\n",
       "      <td>164</td>\n",
       "    </tr>\n",
       "    <tr>\n",
       "      <th>35</th>\n",
       "      <td>Saurabh Shukla</td>\n",
       "      <td>3</td>\n",
       "    </tr>\n",
       "    <tr>\n",
       "      <th>36</th>\n",
       "      <td>Shiva Srivastava</td>\n",
       "      <td>2</td>\n",
       "    </tr>\n",
       "    <tr>\n",
       "      <th>37</th>\n",
       "      <td>Shivan K</td>\n",
       "      <td>130</td>\n",
       "    </tr>\n",
       "    <tr>\n",
       "      <th>38</th>\n",
       "      <td>Shivananda Sonwane</td>\n",
       "      <td>154</td>\n",
       "    </tr>\n",
       "    <tr>\n",
       "      <th>39</th>\n",
       "      <td>Shubham Sharma</td>\n",
       "      <td>155</td>\n",
       "    </tr>\n",
       "    <tr>\n",
       "      <th>40</th>\n",
       "      <td>Sowmiya Sivakumar</td>\n",
       "      <td>16</td>\n",
       "    </tr>\n",
       "    <tr>\n",
       "      <th>41</th>\n",
       "      <td>Sudhanshu Kumar</td>\n",
       "      <td>2</td>\n",
       "    </tr>\n",
       "    <tr>\n",
       "      <th>42</th>\n",
       "      <td>Suraj S Bilgi</td>\n",
       "      <td>4</td>\n",
       "    </tr>\n",
       "    <tr>\n",
       "      <th>43</th>\n",
       "      <td>Swati</td>\n",
       "      <td>103</td>\n",
       "    </tr>\n",
       "    <tr>\n",
       "      <th>44</th>\n",
       "      <td>Vivek</td>\n",
       "      <td>3</td>\n",
       "    </tr>\n",
       "    <tr>\n",
       "      <th>45</th>\n",
       "      <td>Wasim</td>\n",
       "      <td>156</td>\n",
       "    </tr>\n",
       "    <tr>\n",
       "      <th>46</th>\n",
       "      <td>Zeeshan</td>\n",
       "      <td>48</td>\n",
       "    </tr>\n",
       "  </tbody>\n",
       "</table>\n",
       "</div>"
      ],
      "text/plain": [
       "                Agent Name  Total Feedback\n",
       "0            Aditya Shinde              73\n",
       "1              Aditya_iot               43\n",
       "2               Ameya Jain             150\n",
       "3                 Anirudh                2\n",
       "4                Ankitjha                1\n",
       "5                 Aravind              178\n",
       "6            Ayushi Mishra              75\n",
       "7                 Bharath              231\n",
       "8      Boktiar Ahmed Bappy              52\n",
       "9       Chaitra K Hiremath               5\n",
       "10        Deepranjan Gupta              83\n",
       "11      Harikrishnan Shaji              80\n",
       "12         Hrisikesh Neogi             183\n",
       "13          Ishawant Kumar              79\n",
       "14          Jawala Prakash              33\n",
       "15            Jayant Kumar               7\n",
       "16           Jaydeep Dixit             179\n",
       "17          Khushboo Priya             134\n",
       "18             Madhulika G              67\n",
       "19           Mahesh Sarade              46\n",
       "20                 Maitry               81\n",
       "21            Manjunatha A             132\n",
       "22                Mithun S              93\n",
       "23                 Mukesh               17\n",
       "24             Mukesh Rao                1\n",
       "25             Muskan Garg              14\n",
       "26           Nandani Gupta              91\n",
       "27            Nishtha Jain              18\n",
       "28  Prabir Kumar Satapathy              53\n",
       "29           Prateek _iot               54\n",
       "30            Prerna Singh              82\n",
       "31             Rishav Dash              27\n",
       "32         Saikumarreddy N             184\n",
       "33           Sandipan Saha               1\n",
       "34           Sanjeev Kumar             164\n",
       "35          Saurabh Shukla               3\n",
       "36        Shiva Srivastava               2\n",
       "37                Shivan K             130\n",
       "38      Shivananda Sonwane             154\n",
       "39          Shubham Sharma             155\n",
       "40       Sowmiya Sivakumar              16\n",
       "41         Sudhanshu Kumar               2\n",
       "42           Suraj S Bilgi               4\n",
       "43                  Swati              103\n",
       "44                  Vivek                3\n",
       "45                  Wasim              156\n",
       "46                Zeeshan               48"
      ]
     },
     "execution_count": 66,
     "metadata": {},
     "output_type": "execute_result"
    }
   ],
   "source": [
    "avgtf4 = avg4.groupby('Agent Name').sum('Total Feedback').reset_index()\n",
    "avgtf4[['Agent Name','Total Feedback']]"
   ]
  },
  {
   "cell_type": "code",
   "execution_count": null,
   "metadata": {},
   "outputs": [],
   "source": []
  },
  {
   "cell_type": "markdown",
   "metadata": {},
   "source": [
    "9 . average weekly response time for each agent \n"
   ]
  },
  {
   "cell_type": "code",
   "execution_count": null,
   "metadata": {},
   "outputs": [],
   "source": []
  },
  {
   "cell_type": "markdown",
   "metadata": {},
   "source": [
    "10 . average weekely resolution time for each agents "
   ]
  },
  {
   "cell_type": "code",
   "execution_count": null,
   "metadata": {},
   "outputs": [],
   "source": []
  },
  {
   "cell_type": "markdown",
   "metadata": {},
   "source": [
    "11 . list of all agents name "
   ]
  },
  {
   "cell_type": "code",
   "execution_count": 70,
   "metadata": {},
   "outputs": [
    {
     "data": {
      "text/plain": [
       "array(['Prerna Singh', 'Nandani Gupta', 'Ameya Jain', 'Mahesh Sarade',\n",
       "       'Swati ', 'Mukesh ', 'Saikumarreddy N', 'Sanjeev Kumar',\n",
       "       'Shubham Sharma', 'Nishtha Jain', 'Manjunatha A', 'Khushboo Priya',\n",
       "       'Suraj S Bilgi', 'Harikrishnan Shaji', 'Hrisikesh Neogi',\n",
       "       'Shivan K', 'Sowmiya Sivakumar', 'Madhulika G', 'Mithun S',\n",
       "       'Hitesh Choudhary', 'Sanjeevan ', 'Anirudh ', 'Shiva Srivastava',\n",
       "       'Dibyanshu ', 'Ashish ', 'Uday Mishra', 'Aditya Shinde',\n",
       "       'Jayant Kumar', 'Aditya_iot ', 'Prabir Kumar Satapathy',\n",
       "       'Saurabh Shukla', 'Wasim ', 'Samprit ', 'Maitry ', 'Abhishek ',\n",
       "       'Rishav Dash', 'Aravind ', 'Tarun ', 'Muskan Garg', 'Ankit Sharma',\n",
       "       'Bharath ', 'Ashad Nasim', 'Vasanth P', 'Aditya ', 'Amersh ',\n",
       "       'Sandipan Saha', 'Ineuron Intelligence ', 'Mahak ', 'Mukesh Rao ',\n",
       "       'Zeeshan ', 'Anurag Tiwari', 'Ankitjha ', 'Saif Khan',\n",
       "       'Jaydeep Dixit', 'Sudhanshu Kumar', 'Maneesh ', 'Hyder Abbas',\n",
       "       'Rohan ', 'Vivek ', 'Nitin M', 'Shivan_S ', 'Spuri ',\n",
       "       'Ayushi Mishra', 'Chaitra K Hiremath', 'Prateek _iot ',\n",
       "       'Boktiar Ahmed Bappy', 'Shivananda Sonwane', 'Ishawant Kumar',\n",
       "       'Deepranjan Gupta', 'Jawala Prakash'], dtype=object)"
      ]
     },
     "execution_count": 70,
     "metadata": {},
     "output_type": "execute_result"
    }
   ],
   "source": [
    "ap_df['Agent Name'].unique()"
   ]
  },
  {
   "cell_type": "code",
   "execution_count": null,
   "metadata": {},
   "outputs": [],
   "source": []
  },
  {
   "cell_type": "markdown",
   "metadata": {},
   "source": [
    "12 . percentage of chat on which they have received a feedback "
   ]
  },
  {
   "cell_type": "code",
   "execution_count": 86,
   "metadata": {},
   "outputs": [
    {
     "name": "stderr",
     "output_type": "stream",
     "text": [
      "C:\\Users\\Subhajit\\AppData\\Local\\Temp\\ipykernel_11576\\2549092610.py:2: FutureWarning: Indexing with multiple keys (implicitly converted to a tuple of keys) will be deprecated, use a list instead.\n",
      "  ap_df_th1 = ap_df_th0.groupby('Agent Name')['Total Chats','Total Feedback'].sum().reset_index()\n"
     ]
    },
    {
     "data": {
      "text/html": [
       "<div>\n",
       "<style scoped>\n",
       "    .dataframe tbody tr th:only-of-type {\n",
       "        vertical-align: middle;\n",
       "    }\n",
       "\n",
       "    .dataframe tbody tr th {\n",
       "        vertical-align: top;\n",
       "    }\n",
       "\n",
       "    .dataframe thead th {\n",
       "        text-align: right;\n",
       "    }\n",
       "</style>\n",
       "<table border=\"1\" class=\"dataframe\">\n",
       "  <thead>\n",
       "    <tr style=\"text-align: right;\">\n",
       "      <th></th>\n",
       "      <th>Agent Name</th>\n",
       "      <th>Total Chats</th>\n",
       "      <th>Total Feedback</th>\n",
       "      <th>Total Chat %</th>\n",
       "    </tr>\n",
       "  </thead>\n",
       "  <tbody>\n",
       "    <tr>\n",
       "      <th>14</th>\n",
       "      <td>Hrisikesh Neogi</td>\n",
       "      <td>578</td>\n",
       "      <td>367</td>\n",
       "      <td>3.931438</td>\n",
       "    </tr>\n",
       "    <tr>\n",
       "      <th>30</th>\n",
       "      <td>Nandani Gupta</td>\n",
       "      <td>560</td>\n",
       "      <td>308</td>\n",
       "      <td>3.809006</td>\n",
       "    </tr>\n",
       "    <tr>\n",
       "      <th>52</th>\n",
       "      <td>Zeeshan</td>\n",
       "      <td>542</td>\n",
       "      <td>335</td>\n",
       "      <td>3.686573</td>\n",
       "    </tr>\n",
       "    <tr>\n",
       "      <th>23</th>\n",
       "      <td>Maitry</td>\n",
       "      <td>542</td>\n",
       "      <td>347</td>\n",
       "      <td>3.686573</td>\n",
       "    </tr>\n",
       "    <tr>\n",
       "      <th>48</th>\n",
       "      <td>Swati</td>\n",
       "      <td>524</td>\n",
       "      <td>302</td>\n",
       "      <td>3.564141</td>\n",
       "    </tr>\n",
       "    <tr>\n",
       "      <th>8</th>\n",
       "      <td>Ayushi Mishra</td>\n",
       "      <td>514</td>\n",
       "      <td>329</td>\n",
       "      <td>3.496123</td>\n",
       "    </tr>\n",
       "    <tr>\n",
       "      <th>18</th>\n",
       "      <td>Jaydeep Dixit</td>\n",
       "      <td>512</td>\n",
       "      <td>305</td>\n",
       "      <td>3.482519</td>\n",
       "    </tr>\n",
       "    <tr>\n",
       "      <th>44</th>\n",
       "      <td>Shubham Sharma</td>\n",
       "      <td>510</td>\n",
       "      <td>300</td>\n",
       "      <td>3.468916</td>\n",
       "    </tr>\n",
       "    <tr>\n",
       "      <th>38</th>\n",
       "      <td>Sanjeev Kumar</td>\n",
       "      <td>507</td>\n",
       "      <td>311</td>\n",
       "      <td>3.448510</td>\n",
       "    </tr>\n",
       "    <tr>\n",
       "      <th>26</th>\n",
       "      <td>Mithun S</td>\n",
       "      <td>503</td>\n",
       "      <td>364</td>\n",
       "      <td>3.421303</td>\n",
       "    </tr>\n",
       "    <tr>\n",
       "      <th>12</th>\n",
       "      <td>Deepranjan Gupta</td>\n",
       "      <td>492</td>\n",
       "      <td>312</td>\n",
       "      <td>3.346483</td>\n",
       "    </tr>\n",
       "    <tr>\n",
       "      <th>20</th>\n",
       "      <td>Madhulika G</td>\n",
       "      <td>469</td>\n",
       "      <td>281</td>\n",
       "      <td>3.190042</td>\n",
       "    </tr>\n",
       "    <tr>\n",
       "      <th>10</th>\n",
       "      <td>Boktiar Ahmed Bappy</td>\n",
       "      <td>450</td>\n",
       "      <td>311</td>\n",
       "      <td>3.060808</td>\n",
       "    </tr>\n",
       "    <tr>\n",
       "      <th>19</th>\n",
       "      <td>Khushboo Priya</td>\n",
       "      <td>444</td>\n",
       "      <td>289</td>\n",
       "      <td>3.019997</td>\n",
       "    </tr>\n",
       "    <tr>\n",
       "      <th>43</th>\n",
       "      <td>Shivananda Sonwane</td>\n",
       "      <td>441</td>\n",
       "      <td>263</td>\n",
       "      <td>2.999592</td>\n",
       "    </tr>\n",
       "    <tr>\n",
       "      <th>16</th>\n",
       "      <td>Jawala Prakash</td>\n",
       "      <td>439</td>\n",
       "      <td>250</td>\n",
       "      <td>2.985988</td>\n",
       "    </tr>\n",
       "    <tr>\n",
       "      <th>51</th>\n",
       "      <td>Wasim</td>\n",
       "      <td>433</td>\n",
       "      <td>284</td>\n",
       "      <td>2.945178</td>\n",
       "    </tr>\n",
       "    <tr>\n",
       "      <th>25</th>\n",
       "      <td>Manjunatha A</td>\n",
       "      <td>411</td>\n",
       "      <td>254</td>\n",
       "      <td>2.795538</td>\n",
       "    </tr>\n",
       "    <tr>\n",
       "      <th>35</th>\n",
       "      <td>Rishav Dash</td>\n",
       "      <td>407</td>\n",
       "      <td>264</td>\n",
       "      <td>2.768331</td>\n",
       "    </tr>\n",
       "    <tr>\n",
       "      <th>34</th>\n",
       "      <td>Prerna Singh</td>\n",
       "      <td>401</td>\n",
       "      <td>235</td>\n",
       "      <td>2.727520</td>\n",
       "    </tr>\n",
       "    <tr>\n",
       "      <th>13</th>\n",
       "      <td>Harikrishnan Shaji</td>\n",
       "      <td>381</td>\n",
       "      <td>231</td>\n",
       "      <td>2.591484</td>\n",
       "    </tr>\n",
       "    <tr>\n",
       "      <th>31</th>\n",
       "      <td>Nishtha Jain</td>\n",
       "      <td>373</td>\n",
       "      <td>257</td>\n",
       "      <td>2.537070</td>\n",
       "    </tr>\n",
       "    <tr>\n",
       "      <th>9</th>\n",
       "      <td>Bharath</td>\n",
       "      <td>369</td>\n",
       "      <td>247</td>\n",
       "      <td>2.509863</td>\n",
       "    </tr>\n",
       "    <tr>\n",
       "      <th>6</th>\n",
       "      <td>Aravind</td>\n",
       "      <td>366</td>\n",
       "      <td>233</td>\n",
       "      <td>2.489457</td>\n",
       "    </tr>\n",
       "    <tr>\n",
       "      <th>22</th>\n",
       "      <td>Mahesh Sarade</td>\n",
       "      <td>364</td>\n",
       "      <td>216</td>\n",
       "      <td>2.475854</td>\n",
       "    </tr>\n",
       "    <tr>\n",
       "      <th>36</th>\n",
       "      <td>Saikumarreddy N</td>\n",
       "      <td>364</td>\n",
       "      <td>290</td>\n",
       "      <td>2.475854</td>\n",
       "    </tr>\n",
       "    <tr>\n",
       "      <th>41</th>\n",
       "      <td>Shivan K</td>\n",
       "      <td>355</td>\n",
       "      <td>243</td>\n",
       "      <td>2.414637</td>\n",
       "    </tr>\n",
       "    <tr>\n",
       "      <th>15</th>\n",
       "      <td>Ishawant Kumar</td>\n",
       "      <td>338</td>\n",
       "      <td>202</td>\n",
       "      <td>2.299007</td>\n",
       "    </tr>\n",
       "    <tr>\n",
       "      <th>2</th>\n",
       "      <td>Ameya Jain</td>\n",
       "      <td>322</td>\n",
       "      <td>228</td>\n",
       "      <td>2.190178</td>\n",
       "    </tr>\n",
       "    <tr>\n",
       "      <th>32</th>\n",
       "      <td>Prabir Kumar Satapathy</td>\n",
       "      <td>299</td>\n",
       "      <td>222</td>\n",
       "      <td>2.033737</td>\n",
       "    </tr>\n",
       "    <tr>\n",
       "      <th>0</th>\n",
       "      <td>Aditya Shinde</td>\n",
       "      <td>277</td>\n",
       "      <td>153</td>\n",
       "      <td>1.884097</td>\n",
       "    </tr>\n",
       "    <tr>\n",
       "      <th>1</th>\n",
       "      <td>Aditya_iot</td>\n",
       "      <td>231</td>\n",
       "      <td>131</td>\n",
       "      <td>1.571215</td>\n",
       "    </tr>\n",
       "    <tr>\n",
       "      <th>45</th>\n",
       "      <td>Sowmiya Sivakumar</td>\n",
       "      <td>206</td>\n",
       "      <td>141</td>\n",
       "      <td>1.401170</td>\n",
       "    </tr>\n",
       "    <tr>\n",
       "      <th>33</th>\n",
       "      <td>Prateek _iot</td>\n",
       "      <td>189</td>\n",
       "      <td>107</td>\n",
       "      <td>1.285539</td>\n",
       "    </tr>\n",
       "    <tr>\n",
       "      <th>17</th>\n",
       "      <td>Jayant Kumar</td>\n",
       "      <td>127</td>\n",
       "      <td>70</td>\n",
       "      <td>0.863828</td>\n",
       "    </tr>\n",
       "    <tr>\n",
       "      <th>3</th>\n",
       "      <td>Anirudh</td>\n",
       "      <td>80</td>\n",
       "      <td>39</td>\n",
       "      <td>0.544144</td>\n",
       "    </tr>\n",
       "    <tr>\n",
       "      <th>11</th>\n",
       "      <td>Chaitra K Hiremath</td>\n",
       "      <td>64</td>\n",
       "      <td>37</td>\n",
       "      <td>0.435315</td>\n",
       "    </tr>\n",
       "    <tr>\n",
       "      <th>29</th>\n",
       "      <td>Muskan Garg</td>\n",
       "      <td>56</td>\n",
       "      <td>37</td>\n",
       "      <td>0.380901</td>\n",
       "    </tr>\n",
       "    <tr>\n",
       "      <th>40</th>\n",
       "      <td>Shiva Srivastava</td>\n",
       "      <td>53</td>\n",
       "      <td>46</td>\n",
       "      <td>0.360495</td>\n",
       "    </tr>\n",
       "    <tr>\n",
       "      <th>50</th>\n",
       "      <td>Vivek</td>\n",
       "      <td>44</td>\n",
       "      <td>20</td>\n",
       "      <td>0.299279</td>\n",
       "    </tr>\n",
       "    <tr>\n",
       "      <th>37</th>\n",
       "      <td>Sandipan Saha</td>\n",
       "      <td>30</td>\n",
       "      <td>18</td>\n",
       "      <td>0.204054</td>\n",
       "    </tr>\n",
       "    <tr>\n",
       "      <th>47</th>\n",
       "      <td>Suraj S Bilgi</td>\n",
       "      <td>28</td>\n",
       "      <td>15</td>\n",
       "      <td>0.190450</td>\n",
       "    </tr>\n",
       "    <tr>\n",
       "      <th>49</th>\n",
       "      <td>Tarun</td>\n",
       "      <td>22</td>\n",
       "      <td>6</td>\n",
       "      <td>0.149640</td>\n",
       "    </tr>\n",
       "    <tr>\n",
       "      <th>27</th>\n",
       "      <td>Mukesh</td>\n",
       "      <td>19</td>\n",
       "      <td>17</td>\n",
       "      <td>0.129234</td>\n",
       "    </tr>\n",
       "    <tr>\n",
       "      <th>7</th>\n",
       "      <td>Ashad Nasim</td>\n",
       "      <td>18</td>\n",
       "      <td>9</td>\n",
       "      <td>0.122432</td>\n",
       "    </tr>\n",
       "    <tr>\n",
       "      <th>39</th>\n",
       "      <td>Saurabh Shukla</td>\n",
       "      <td>16</td>\n",
       "      <td>8</td>\n",
       "      <td>0.108829</td>\n",
       "    </tr>\n",
       "    <tr>\n",
       "      <th>21</th>\n",
       "      <td>Mahak</td>\n",
       "      <td>7</td>\n",
       "      <td>5</td>\n",
       "      <td>0.047613</td>\n",
       "    </tr>\n",
       "    <tr>\n",
       "      <th>42</th>\n",
       "      <td>Shivan_S</td>\n",
       "      <td>7</td>\n",
       "      <td>4</td>\n",
       "      <td>0.047613</td>\n",
       "    </tr>\n",
       "    <tr>\n",
       "      <th>28</th>\n",
       "      <td>Mukesh Rao</td>\n",
       "      <td>5</td>\n",
       "      <td>5</td>\n",
       "      <td>0.034009</td>\n",
       "    </tr>\n",
       "    <tr>\n",
       "      <th>5</th>\n",
       "      <td>Anurag Tiwari</td>\n",
       "      <td>4</td>\n",
       "      <td>3</td>\n",
       "      <td>0.027207</td>\n",
       "    </tr>\n",
       "    <tr>\n",
       "      <th>4</th>\n",
       "      <td>Ankitjha</td>\n",
       "      <td>4</td>\n",
       "      <td>3</td>\n",
       "      <td>0.027207</td>\n",
       "    </tr>\n",
       "    <tr>\n",
       "      <th>24</th>\n",
       "      <td>Maneesh</td>\n",
       "      <td>3</td>\n",
       "      <td>3</td>\n",
       "      <td>0.020405</td>\n",
       "    </tr>\n",
       "    <tr>\n",
       "      <th>46</th>\n",
       "      <td>Sudhanshu Kumar</td>\n",
       "      <td>2</td>\n",
       "      <td>2</td>\n",
       "      <td>0.013604</td>\n",
       "    </tr>\n",
       "  </tbody>\n",
       "</table>\n",
       "</div>"
      ],
      "text/plain": [
       "                Agent Name  Total Chats  Total Feedback  Total Chat %\n",
       "14         Hrisikesh Neogi          578             367      3.931438\n",
       "30           Nandani Gupta          560             308      3.809006\n",
       "52                Zeeshan           542             335      3.686573\n",
       "23                 Maitry           542             347      3.686573\n",
       "48                  Swati           524             302      3.564141\n",
       "8            Ayushi Mishra          514             329      3.496123\n",
       "18           Jaydeep Dixit          512             305      3.482519\n",
       "44          Shubham Sharma          510             300      3.468916\n",
       "38           Sanjeev Kumar          507             311      3.448510\n",
       "26                Mithun S          503             364      3.421303\n",
       "12        Deepranjan Gupta          492             312      3.346483\n",
       "20             Madhulika G          469             281      3.190042\n",
       "10     Boktiar Ahmed Bappy          450             311      3.060808\n",
       "19          Khushboo Priya          444             289      3.019997\n",
       "43      Shivananda Sonwane          441             263      2.999592\n",
       "16          Jawala Prakash          439             250      2.985988\n",
       "51                  Wasim           433             284      2.945178\n",
       "25            Manjunatha A          411             254      2.795538\n",
       "35             Rishav Dash          407             264      2.768331\n",
       "34            Prerna Singh          401             235      2.727520\n",
       "13      Harikrishnan Shaji          381             231      2.591484\n",
       "31            Nishtha Jain          373             257      2.537070\n",
       "9                 Bharath           369             247      2.509863\n",
       "6                 Aravind           366             233      2.489457\n",
       "22           Mahesh Sarade          364             216      2.475854\n",
       "36         Saikumarreddy N          364             290      2.475854\n",
       "41                Shivan K          355             243      2.414637\n",
       "15          Ishawant Kumar          338             202      2.299007\n",
       "2               Ameya Jain          322             228      2.190178\n",
       "32  Prabir Kumar Satapathy          299             222      2.033737\n",
       "0            Aditya Shinde          277             153      1.884097\n",
       "1              Aditya_iot           231             131      1.571215\n",
       "45       Sowmiya Sivakumar          206             141      1.401170\n",
       "33           Prateek _iot           189             107      1.285539\n",
       "17            Jayant Kumar          127              70      0.863828\n",
       "3                 Anirudh            80              39      0.544144\n",
       "11      Chaitra K Hiremath           64              37      0.435315\n",
       "29             Muskan Garg           56              37      0.380901\n",
       "40        Shiva Srivastava           53              46      0.360495\n",
       "50                  Vivek            44              20      0.299279\n",
       "37           Sandipan Saha           30              18      0.204054\n",
       "47           Suraj S Bilgi           28              15      0.190450\n",
       "49                  Tarun            22               6      0.149640\n",
       "27                 Mukesh            19              17      0.129234\n",
       "7              Ashad Nasim           18               9      0.122432\n",
       "39          Saurabh Shukla           16               8      0.108829\n",
       "21                  Mahak             7               5      0.047613\n",
       "42               Shivan_S             7               4      0.047613\n",
       "28             Mukesh Rao             5               5      0.034009\n",
       "5            Anurag Tiwari            4               3      0.027207\n",
       "4                Ankitjha             4               3      0.027207\n",
       "24                Maneesh             3               3      0.020405\n",
       "46         Sudhanshu Kumar            2               2      0.013604"
      ]
     },
     "execution_count": 86,
     "metadata": {},
     "output_type": "execute_result"
    }
   ],
   "source": [
    "ap_df_th0 = ap_df[ap_df['Total Feedback'] != 0]\n",
    "ap_df_th1 = ap_df_th0.groupby('Agent Name')['Total Chats','Total Feedback'].sum().reset_index()\n",
    "sum_tc= sum(ap_df_th1['Total Chats'])\n",
    "ap_df_th1['Total Chat %'] = (ap_df_th1['Total Chats']*100)/sum_tc\n",
    "ap_df_th1.sort_values('Total Chat %',ascending=False)"
   ]
  },
  {
   "cell_type": "code",
   "execution_count": null,
   "metadata": {},
   "outputs": [],
   "source": []
  },
  {
   "cell_type": "markdown",
   "metadata": {},
   "source": [
    "13 . Total contributation hour for each and every agents weekly basis \n",
    " "
   ]
  },
  {
   "cell_type": "code",
   "execution_count": 92,
   "metadata": {},
   "outputs": [
    {
     "name": "stderr",
     "output_type": "stream",
     "text": [
      "C:\\Users\\Subhajit\\AppData\\Local\\Temp\\ipykernel_11576\\1849448829.py:1: FutureWarning: Series.dt.weekofyear and Series.dt.week have been deprecated. Please use Series.dt.isocalendar().week instead.\n",
      "  alr_df['converted_week'] = ap_df.Date.dt.week\n"
     ]
    }
   ],
   "source": [
    "alr_df['converted_week'] = ap_df.Date.dt.week"
   ]
  },
  {
   "cell_type": "code",
   "execution_count": 115,
   "metadata": {},
   "outputs": [
    {
     "ename": "AttributeError",
     "evalue": "'Series' object has no attribute 'srt'",
     "output_type": "error",
     "traceback": [
      "\u001b[1;31m---------------------------------------------------------------------------\u001b[0m",
      "\u001b[1;31mAttributeError\u001b[0m                            Traceback (most recent call last)",
      "Input \u001b[1;32mIn [115]\u001b[0m, in \u001b[0;36m<cell line: 2>\u001b[1;34m()\u001b[0m\n\u001b[0;32m      1\u001b[0m alr_df[\u001b[38;5;124m'\u001b[39m\u001b[38;5;124mDuration\u001b[39m\u001b[38;5;124m'\u001b[39m] \u001b[38;5;241m=\u001b[39m alr_df[\u001b[38;5;124m'\u001b[39m\u001b[38;5;124mDuration\u001b[39m\u001b[38;5;124m'\u001b[39m]\u001b[38;5;241m.\u001b[39mstr\u001b[38;5;241m.\u001b[39mreplace(\u001b[38;5;124m'\u001b[39m\u001b[38;5;124m:\u001b[39m\u001b[38;5;124m'\u001b[39m,\u001b[38;5;124m'\u001b[39m\u001b[38;5;124m.\u001b[39m\u001b[38;5;124m'\u001b[39m)\n\u001b[1;32m----> 2\u001b[0m \u001b[43malr_df\u001b[49m\u001b[43m[\u001b[49m\u001b[38;5;124;43m'\u001b[39;49m\u001b[38;5;124;43mDuration\u001b[39;49m\u001b[38;5;124;43m'\u001b[39;49m\u001b[43m]\u001b[49m\u001b[38;5;241;43m.\u001b[39;49m\u001b[43msrt\u001b[49m[\u001b[38;5;241m0\u001b[39m:\u001b[38;5;241m4\u001b[39m]\n",
      "File \u001b[1;32m~\\anaconda3\\lib\\site-packages\\pandas\\core\\generic.py:5575\u001b[0m, in \u001b[0;36mNDFrame.__getattr__\u001b[1;34m(self, name)\u001b[0m\n\u001b[0;32m   5568\u001b[0m \u001b[38;5;28;01mif\u001b[39;00m (\n\u001b[0;32m   5569\u001b[0m     name \u001b[38;5;129;01mnot\u001b[39;00m \u001b[38;5;129;01min\u001b[39;00m \u001b[38;5;28mself\u001b[39m\u001b[38;5;241m.\u001b[39m_internal_names_set\n\u001b[0;32m   5570\u001b[0m     \u001b[38;5;129;01mand\u001b[39;00m name \u001b[38;5;129;01mnot\u001b[39;00m \u001b[38;5;129;01min\u001b[39;00m \u001b[38;5;28mself\u001b[39m\u001b[38;5;241m.\u001b[39m_metadata\n\u001b[0;32m   5571\u001b[0m     \u001b[38;5;129;01mand\u001b[39;00m name \u001b[38;5;129;01mnot\u001b[39;00m \u001b[38;5;129;01min\u001b[39;00m \u001b[38;5;28mself\u001b[39m\u001b[38;5;241m.\u001b[39m_accessors\n\u001b[0;32m   5572\u001b[0m     \u001b[38;5;129;01mand\u001b[39;00m \u001b[38;5;28mself\u001b[39m\u001b[38;5;241m.\u001b[39m_info_axis\u001b[38;5;241m.\u001b[39m_can_hold_identifiers_and_holds_name(name)\n\u001b[0;32m   5573\u001b[0m ):\n\u001b[0;32m   5574\u001b[0m     \u001b[38;5;28;01mreturn\u001b[39;00m \u001b[38;5;28mself\u001b[39m[name]\n\u001b[1;32m-> 5575\u001b[0m \u001b[38;5;28;01mreturn\u001b[39;00m \u001b[38;5;28;43mobject\u001b[39;49m\u001b[38;5;241;43m.\u001b[39;49m\u001b[38;5;21;43m__getattribute__\u001b[39;49m\u001b[43m(\u001b[49m\u001b[38;5;28;43mself\u001b[39;49m\u001b[43m,\u001b[49m\u001b[43m \u001b[49m\u001b[43mname\u001b[49m\u001b[43m)\u001b[49m\n",
      "\u001b[1;31mAttributeError\u001b[0m: 'Series' object has no attribute 'srt'"
     ]
    }
   ],
   "source": [
    "alr_df['Duration'] = alr_df['Duration'].str.replace(':','.')\n",
    "alr_df['Duration'].srt[0:4]"
   ]
  },
  {
   "cell_type": "code",
   "execution_count": 109,
   "metadata": {},
   "outputs": [
    {
     "data": {
      "text/html": [
       "<div>\n",
       "<style scoped>\n",
       "    .dataframe tbody tr th:only-of-type {\n",
       "        vertical-align: middle;\n",
       "    }\n",
       "\n",
       "    .dataframe tbody tr th {\n",
       "        vertical-align: top;\n",
       "    }\n",
       "\n",
       "    .dataframe thead th {\n",
       "        text-align: right;\n",
       "    }\n",
       "</style>\n",
       "<table border=\"1\" class=\"dataframe\">\n",
       "  <thead>\n",
       "    <tr style=\"text-align: right;\">\n",
       "      <th></th>\n",
       "      <th>SL No</th>\n",
       "      <th>Agent</th>\n",
       "      <th>Date</th>\n",
       "      <th>Login Time</th>\n",
       "      <th>Logout Time</th>\n",
       "      <th>Duration</th>\n",
       "      <th>converted_week</th>\n",
       "    </tr>\n",
       "  </thead>\n",
       "  <tbody>\n",
       "    <tr>\n",
       "      <th>0</th>\n",
       "      <td>1</td>\n",
       "      <td>Shivananda Sonwane</td>\n",
       "      <td>2022-07-30</td>\n",
       "      <td>03:35:29 PM</td>\n",
       "      <td>05:39:39 PM</td>\n",
       "      <td>02.04.10</td>\n",
       "      <td>30</td>\n",
       "    </tr>\n",
       "    <tr>\n",
       "      <th>1</th>\n",
       "      <td>2</td>\n",
       "      <td>Khushboo Priya</td>\n",
       "      <td>2022-07-30</td>\n",
       "      <td>03:06:59 PM</td>\n",
       "      <td>03:07:16 PM</td>\n",
       "      <td>02.04.10</td>\n",
       "      <td>30</td>\n",
       "    </tr>\n",
       "    <tr>\n",
       "      <th>2</th>\n",
       "      <td>3</td>\n",
       "      <td>Nandani Gupta</td>\n",
       "      <td>2022-07-30</td>\n",
       "      <td>03:04:24 PM</td>\n",
       "      <td>05:31:07 PM</td>\n",
       "      <td>02.04.10</td>\n",
       "      <td>30</td>\n",
       "    </tr>\n",
       "    <tr>\n",
       "      <th>3</th>\n",
       "      <td>4</td>\n",
       "      <td>Hrisikesh Neogi</td>\n",
       "      <td>2022-07-30</td>\n",
       "      <td>02:34:29 PM</td>\n",
       "      <td>03:19:35 PM</td>\n",
       "      <td>02.04.10</td>\n",
       "      <td>30</td>\n",
       "    </tr>\n",
       "    <tr>\n",
       "      <th>4</th>\n",
       "      <td>5</td>\n",
       "      <td>Mukesh</td>\n",
       "      <td>2022-07-30</td>\n",
       "      <td>02:03:15 PM</td>\n",
       "      <td>03:11:52 PM</td>\n",
       "      <td>02.04.10</td>\n",
       "      <td>30</td>\n",
       "    </tr>\n",
       "    <tr>\n",
       "      <th>...</th>\n",
       "      <td>...</td>\n",
       "      <td>...</td>\n",
       "      <td>...</td>\n",
       "      <td>...</td>\n",
       "      <td>...</td>\n",
       "      <td>...</td>\n",
       "      <td>...</td>\n",
       "    </tr>\n",
       "    <tr>\n",
       "      <th>995</th>\n",
       "      <td>996</td>\n",
       "      <td>Manjunatha A</td>\n",
       "      <td>2022-07-20</td>\n",
       "      <td>09:03:51 AM</td>\n",
       "      <td>03:02:28 PM</td>\n",
       "      <td>02.04.10</td>\n",
       "      <td>28</td>\n",
       "    </tr>\n",
       "    <tr>\n",
       "      <th>996</th>\n",
       "      <td>997</td>\n",
       "      <td>Bharath</td>\n",
       "      <td>2022-07-20</td>\n",
       "      <td>09:00:49 AM</td>\n",
       "      <td>03:01:32 PM</td>\n",
       "      <td>02.04.10</td>\n",
       "      <td>28</td>\n",
       "    </tr>\n",
       "    <tr>\n",
       "      <th>997</th>\n",
       "      <td>998</td>\n",
       "      <td>Khushboo Priya</td>\n",
       "      <td>2022-07-20</td>\n",
       "      <td>08:59:20 AM</td>\n",
       "      <td>02:26:55 PM</td>\n",
       "      <td>02.04.10</td>\n",
       "      <td>28</td>\n",
       "    </tr>\n",
       "    <tr>\n",
       "      <th>998</th>\n",
       "      <td>999</td>\n",
       "      <td>Nishtha Jain</td>\n",
       "      <td>2022-07-20</td>\n",
       "      <td>08:43:55 AM</td>\n",
       "      <td>02:00:33 PM</td>\n",
       "      <td>02.04.10</td>\n",
       "      <td>28</td>\n",
       "    </tr>\n",
       "    <tr>\n",
       "      <th>999</th>\n",
       "      <td>1000</td>\n",
       "      <td>Tarun</td>\n",
       "      <td>2022-07-01</td>\n",
       "      <td>01:52:47 AM</td>\n",
       "      <td>12:01:07 PM</td>\n",
       "      <td>02.04.10</td>\n",
       "      <td>28</td>\n",
       "    </tr>\n",
       "  </tbody>\n",
       "</table>\n",
       "<p>1000 rows × 7 columns</p>\n",
       "</div>"
      ],
      "text/plain": [
       "     SL No               Agent       Date   Login Time  Logout Time  Duration  \\\n",
       "0        1  Shivananda Sonwane 2022-07-30  03:35:29 PM  05:39:39 PM  02.04.10   \n",
       "1        2      Khushboo Priya 2022-07-30  03:06:59 PM  03:07:16 PM  02.04.10   \n",
       "2        3       Nandani Gupta 2022-07-30  03:04:24 PM  05:31:07 PM  02.04.10   \n",
       "3        4     Hrisikesh Neogi 2022-07-30  02:34:29 PM  03:19:35 PM  02.04.10   \n",
       "4        5             Mukesh  2022-07-30  02:03:15 PM  03:11:52 PM  02.04.10   \n",
       "..     ...                 ...        ...          ...          ...       ...   \n",
       "995    996        Manjunatha A 2022-07-20  09:03:51 AM  03:02:28 PM  02.04.10   \n",
       "996    997            Bharath  2022-07-20  09:00:49 AM  03:01:32 PM  02.04.10   \n",
       "997    998      Khushboo Priya 2022-07-20  08:59:20 AM  02:26:55 PM  02.04.10   \n",
       "998    999        Nishtha Jain 2022-07-20  08:43:55 AM  02:00:33 PM  02.04.10   \n",
       "999   1000              Tarun  2022-07-01  01:52:47 AM  12:01:07 PM  02.04.10   \n",
       "\n",
       "     converted_week  \n",
       "0                30  \n",
       "1                30  \n",
       "2                30  \n",
       "3                30  \n",
       "4                30  \n",
       "..              ...  \n",
       "995              28  \n",
       "996              28  \n",
       "997              28  \n",
       "998              28  \n",
       "999              28  \n",
       "\n",
       "[1000 rows x 7 columns]"
      ]
     },
     "execution_count": 109,
     "metadata": {},
     "output_type": "execute_result"
    }
   ],
   "source": [
    "alr_df"
   ]
  },
  {
   "cell_type": "code",
   "execution_count": 110,
   "metadata": {},
   "outputs": [
    {
     "data": {
      "text/plain": [
       "Agent          converted_week\n",
       "Aditya Shinde  30                                                         02.04.10\n",
       "Aditya_iot     28                                                         02.04.10\n",
       "               29                                         02.04.1002.04.1002.04.10\n",
       "               30                         02.04.1002.04.1002.04.1002.04.1002.04.10\n",
       "Amersh         30                                 02.04.1002.04.1002.04.1002.04.10\n",
       "                                                       ...                        \n",
       "Wasim          29                02.04.1002.04.1002.04.1002.04.1002.04.1002.04....\n",
       "               30                                 02.04.1002.04.1002.04.1002.04.10\n",
       "Zeeshan        28                                                         02.04.10\n",
       "               29                 02.04.1002.04.1002.04.1002.04.1002.04.1002.04.10\n",
       "               30                                         02.04.1002.04.1002.04.10\n",
       "Name: Duration, Length: 114, dtype: object"
      ]
     },
     "execution_count": 110,
     "metadata": {},
     "output_type": "execute_result"
    }
   ],
   "source": [
    "alr_df.groupby(['Agent','converted_week'])['Duration'].sum()"
   ]
  },
  {
   "cell_type": "code",
   "execution_count": 88,
   "metadata": {},
   "outputs": [
    {
     "ename": "NameError",
     "evalue": "name 'int64' is not defined",
     "output_type": "error",
     "traceback": [
      "\u001b[1;31m---------------------------------------------------------------------------\u001b[0m",
      "\u001b[1;31mNameError\u001b[0m                                 Traceback (most recent call last)",
      "Input \u001b[1;32mIn [88]\u001b[0m, in \u001b[0;36m<cell line: 1>\u001b[1;34m()\u001b[0m\n\u001b[1;32m----> 1\u001b[0m ms \u001b[38;5;241m=\u001b[39m \u001b[43mint64\u001b[49m(ap_df[\u001b[38;5;124m'\u001b[39m\u001b[38;5;124mDuration\u001b[39m\u001b[38;5;124m'\u001b[39m] \u001b[38;5;241m/\u001b[39m time\u001b[38;5;241m.\u001b[39mMillisecond)\n\u001b[0;32m      2\u001b[0m fmt\u001b[38;5;241m.\u001b[39mPrintln(\u001b[38;5;124m\"\u001b[39m\u001b[38;5;124mms:\u001b[39m\u001b[38;5;124m\"\u001b[39m, ms)\n",
      "\u001b[1;31mNameError\u001b[0m: name 'int64' is not defined"
     ]
    }
   ],
   "source": []
  },
  {
   "cell_type": "code",
   "execution_count": null,
   "metadata": {},
   "outputs": [],
   "source": [
    "14. total percentage of active hour for a month"
   ]
  }
 ],
 "metadata": {
  "kernelspec": {
   "display_name": "Python 3 (ipykernel)",
   "language": "python",
   "name": "python3"
  },
  "language_info": {
   "codemirror_mode": {
    "name": "ipython",
    "version": 3
   },
   "file_extension": ".py",
   "mimetype": "text/x-python",
   "name": "python",
   "nbconvert_exporter": "python",
   "pygments_lexer": "ipython3",
   "version": "3.9.12"
  }
 },
 "nbformat": 4,
 "nbformat_minor": 1
}
