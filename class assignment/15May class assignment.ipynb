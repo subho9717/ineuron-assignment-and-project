{
 "cells": [
  {
   "cell_type": "code",
   "source": [
    "s = \"this is My First Python programming class and i am learNING python string and its function\""
   ],
   "metadata": {
    "id": "QH-OcNQMSSGL",
    "pycharm": {
     "name": "#%%\n"
    }
   },
   "id": "QH-OcNQMSSGL",
   "execution_count": null,
   "outputs": []
  },
  {
   "cell_type": "code",
   "source": [
    "\"\"\"1 . Try to extract data from index one to index 300 with a jump of 3 \"\"\"\n",
    "s[1:300:3]"
   ],
   "metadata": {
    "id": "kU-HYLS-SFGl",
    "outputId": "5b86ba64-9aaa-476a-a0da-9383ce801f8a",
    "colab": {
     "base_uri": "https://localhost:8080/",
     "height": 182
    },
    "pycharm": {
     "name": "#%%\n"
    }
   },
   "id": "kU-HYLS-SFGl",
   "execution_count": 1,
   "outputs": [
    {
     "output_type": "error",
     "ename": "NameError",
     "evalue": "ignored",
     "traceback": [
      "\u001B[0;31m---------------------------------------------------------------------------\u001B[0m",
      "\u001B[0;31mNameError\u001B[0m                                 Traceback (most recent call last)",
      "\u001B[0;32m<ipython-input-1-6bb2ac31904e>\u001B[0m in \u001B[0;36m<module>\u001B[0;34m()\u001B[0m\n\u001B[1;32m      1\u001B[0m \u001B[0;34m\"\"\"1 . Try to extract data from index one to index 300 with a jump of 3 \"\"\"\u001B[0m\u001B[0;34m\u001B[0m\u001B[0;34m\u001B[0m\u001B[0m\n\u001B[0;32m----> 2\u001B[0;31m \u001B[0ms\u001B[0m\u001B[0;34m[\u001B[0m\u001B[0;36m1\u001B[0m\u001B[0;34m:\u001B[0m\u001B[0;36m300\u001B[0m\u001B[0;34m:\u001B[0m\u001B[0;36m3\u001B[0m\u001B[0;34m]\u001B[0m\u001B[0;34m\u001B[0m\u001B[0;34m\u001B[0m\u001B[0m\n\u001B[0m",
      "\u001B[0;31mNameError\u001B[0m: name 's' is not defined"
     ]
    }
   ]
  },
  {
   "cell_type": "code",
   "execution_count": null,
   "id": "ee3ddc24",
   "metadata": {
    "id": "ee3ddc24",
    "pycharm": {
     "name": "#%%\n"
    }
   },
   "outputs": [],
   "source": [
    "\"\"\"2. Try to reverse a string without using reverse function \"\"\"\n",
    "s[::-1]"
   ]
  },
  {
   "cell_type": "code",
   "execution_count": null,
   "id": "95982fbb",
   "metadata": {
    "id": "95982fbb",
    "pycharm": {
     "name": "#%%\n"
    }
   },
   "outputs": [],
   "source": [
    "\"\"\"3. Try to split a string after conversion of entire string in uppercase \"\"\"\n",
    "s_up = s.upper()\n",
    "s_up.split(\" \")"
   ]
  },
  {
   "cell_type": "code",
   "execution_count": null,
   "id": "b7a694c7",
   "metadata": {
    "id": "b7a694c7",
    "pycharm": {
     "name": "#%%\n"
    }
   },
   "outputs": [],
   "source": [
    "\"\"\"4. try to convert the whole string into lower case \"\"\"\n",
    "s_lw = s.lower()\n",
    "s_lw"
   ]
  },
  {
   "cell_type": "code",
   "execution_count": null,
   "id": "287913e0",
   "metadata": {
    "id": "287913e0",
    "pycharm": {
     "name": "#%%\n"
    }
   },
   "outputs": [],
   "source": [
    "\"\"\"5 . Try to capitalize the whole string \"\"\"\n",
    "s.capitalize()"
   ]
  },
  {
   "cell_type": "code",
   "execution_count": null,
   "id": "4f512427",
   "metadata": {
    "id": "4f512427",
    "pycharm": {
     "name": "#%%\n"
    }
   },
   "outputs": [],
   "source": [
    "\"\"\"6 . Write a diference between isalnum() and isalpha()\n",
    "    Ans:-isalnum() it contain  alphabetic or numeric  string . other wise it show false\n",
    "        isalpha() it contain only alphabetic.other wise it show False \n",
    "\"\"\""
   ]
  },
  {
   "cell_type": "code",
   "execution_count": null,
   "id": "4d44ffa4",
   "metadata": {
    "id": "4d44ffa4",
    "pycharm": {
     "name": "#%%\n"
    }
   },
   "outputs": [],
   "source": [
    "\"\"\"7. Try to give an example of expand tab\"\"\"\n",
    "extab = 'my\\tfirst\\tclass'\n",
    "extab.expandtabs()"
   ]
  },
  {
   "cell_type": "code",
   "execution_count": null,
   "id": "934aa436",
   "metadata": {
    "id": "934aa436",
    "pycharm": {
     "name": "#%%\n"
    }
   },
   "outputs": [],
   "source": [
    "\"\"\"8 . Give an example of strip , lstrip and rstrip\"\"\"\n",
    "s = \"    this is My First Python programming class and i am learNING python string and its function        \""
   ]
  },
  {
   "cell_type": "code",
   "execution_count": null,
   "id": "d4825543",
   "metadata": {
    "id": "d4825543",
    "pycharm": {
     "name": "#%%\n"
    }
   },
   "outputs": [],
   "source": [
    "s.strip()"
   ]
  },
  {
   "cell_type": "code",
   "execution_count": null,
   "id": "32faf5f9",
   "metadata": {
    "id": "32faf5f9",
    "pycharm": {
     "name": "#%%\n"
    }
   },
   "outputs": [],
   "source": [
    "s.lstrip()"
   ]
  },
  {
   "cell_type": "code",
   "execution_count": null,
   "id": "70465afb",
   "metadata": {
    "id": "70465afb",
    "pycharm": {
     "name": "#%%\n"
    }
   },
   "outputs": [],
   "source": [
    "s.rstrip()"
   ]
  },
  {
   "cell_type": "code",
   "execution_count": null,
   "id": "151ba02e",
   "metadata": {
    "id": "151ba02e",
    "pycharm": {
     "name": "#%%\n"
    }
   },
   "outputs": [],
   "source": [
    "\"\"\"9.  Replace a string charecter by another charector by taking your own example 'sudhanshu'\"\"\"\n",
    "s = \"sudhanshu\"\n",
    "s.replace('s','a')"
   ]
  },
  {
   "cell_type": "code",
   "execution_count": null,
   "id": "a330d102",
   "metadata": {
    "id": "a330d102",
    "pycharm": {
     "name": "#%%\n"
    }
   },
   "outputs": [],
   "source": [
    "\"\"\"10 . Try  to give a defination of string center function with and exmple\"\"\" \n",
    "s.center(20)"
   ]
  },
  {
   "cell_type": "code",
   "execution_count": null,
   "id": "3b5ed70c",
   "metadata": {
    "id": "3b5ed70c",
    "pycharm": {
     "name": "#%%\n"
    }
   },
   "outputs": [],
   "source": [
    "\"\"\"11 . Write your own definition of compiler and interpretor without copy paste form internet in your own language\"\"\"\n",
    "\"\"\"Ans:-compiler and interpretator both use to convert the program language to machine code.interpretator take less time \n",
    "to analyze the code but execution time is slower than compiler.compiler take large time to analyze the code and less \n",
    "time to execution code\"\"\""
   ]
  },
  {
   "cell_type": "code",
   "execution_count": null,
   "id": "5a9965b6",
   "metadata": {
    "id": "5a9965b6",
    "pycharm": {
     "name": "#%%\n"
    }
   },
   "outputs": [],
   "source": [
    "12 . Python is a interpreted of compiled language give a clear ans with your understanding .\n"
   ]
  },
  {
   "cell_type": "code",
   "execution_count": null,
   "id": "479c0b71",
   "metadata": {
    "id": "479c0b71",
    "pycharm": {
     "name": "#%%\n"
    }
   },
   "outputs": [],
   "source": [
    "\"\"\"13 . Try to write a usecase of python with your understanding \"\"\"\n",
    "\"\"\"Ans:- python use in webdevelopment ,software development ,datascience\"\"\"\n",
    "\n",
    "you have to send a jupyter notebook to shivan@ineuron.ai "
   ]
  },
  {
   "cell_type": "code",
   "execution_count": null,
   "id": "d0394b02",
   "metadata": {
    "id": "d0394b02",
    "pycharm": {
     "name": "#%%\n"
    }
   },
   "outputs": [],
   "source": []
  },
  {
   "cell_type": "code",
   "execution_count": null,
   "id": "2287028c",
   "metadata": {
    "id": "2287028c",
    "pycharm": {
     "name": "#%%\n"
    }
   },
   "outputs": [],
   "source": []
  }
 ],
 "metadata": {
  "kernelspec": {
   "display_name": "Python 3 (ipykernel)",
   "language": "python",
   "name": "python3"
  },
  "language_info": {
   "codemirror_mode": {
    "name": "ipython",
    "version": 3
   },
   "file_extension": ".py",
   "mimetype": "text/x-python",
   "name": "python",
   "nbconvert_exporter": "python",
   "pygments_lexer": "ipython3",
   "version": "3.9.7"
  },
  "colab": {
   "name": "15May class assignment.ipynb",
   "provenance": []
  }
 },
 "nbformat": 4,
 "nbformat_minor": 5
}